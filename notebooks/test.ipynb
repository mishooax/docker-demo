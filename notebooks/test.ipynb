{
 "cells": [
  {
   "cell_type": "code",
   "execution_count": 1,
   "id": "696c4704-8353-41e6-bb7d-87cb85aca465",
   "metadata": {},
   "outputs": [],
   "source": [
    "import torch"
   ]
  },
  {
   "cell_type": "code",
   "execution_count": 2,
   "id": "568fbfa6-4992-4ba6-bfe3-ab563ac74bb5",
   "metadata": {},
   "outputs": [],
   "source": [
    "assert torch.cuda.is_available()"
   ]
  },
  {
   "cell_type": "code",
   "execution_count": 3,
   "id": "a933a38c-eb61-44ad-9c9f-ca19a754b7f9",
   "metadata": {},
   "outputs": [],
   "source": [
    "a = torch.rand(100).cuda()"
   ]
  },
  {
   "cell_type": "code",
   "execution_count": 4,
   "id": "95db88e3-abd7-4190-bf05-189a30b2d1d5",
   "metadata": {},
   "outputs": [
    {
     "data": {
      "text/plain": [
       "tensor([0.1792, 0.5373, 0.9602, 0.7691, 0.4796, 0.2604, 0.4742, 0.3848, 0.4642,\n",
       "        0.6082, 0.5480, 0.7848, 0.1948, 0.8166, 0.5063, 0.6856, 0.1034, 0.9931,\n",
       "        0.5028, 0.9036, 0.6464, 0.7170, 0.7090, 0.1999, 0.9216, 0.2839, 0.1083,\n",
       "        0.3047, 0.9566, 0.2282, 0.7715, 0.7431, 0.9609, 0.5536, 0.7677, 0.4620,\n",
       "        0.9517, 0.5914, 0.9741, 0.1093, 0.1628, 0.4544, 0.0646, 0.8437, 0.8755,\n",
       "        0.8039, 0.5337, 0.4919, 0.3628, 0.4721, 0.1001, 0.2063, 0.9217, 0.2731,\n",
       "        0.3660, 0.2455, 0.6466, 0.3398, 0.9675, 0.6298, 0.2918, 0.9065, 0.1867,\n",
       "        0.8662, 0.2135, 0.2788, 0.1867, 0.8674, 0.4858, 0.2491, 0.6505, 0.5311,\n",
       "        0.3418, 0.8561, 0.9672, 0.9627, 0.0264, 0.1644, 0.7761, 0.1723, 0.6369,\n",
       "        0.0329, 0.4864, 0.2262, 0.6234, 0.6177, 0.7751, 0.1366, 0.2261, 0.9656,\n",
       "        0.7398, 0.9018, 0.9858, 0.4382, 0.4692, 0.8974, 0.0974, 0.3719, 0.1715,\n",
       "        0.3524], device='cuda:0')"
      ]
     },
     "execution_count": 4,
     "metadata": {},
     "output_type": "execute_result"
    }
   ],
   "source": [
    "a"
   ]
  },
  {
   "cell_type": "code",
   "execution_count": null,
   "id": "703152a4-1e6f-42d6-884a-7474205f55f3",
   "metadata": {},
   "outputs": [],
   "source": []
  }
 ],
 "metadata": {
  "kernelspec": {
   "display_name": "dev-pytorch18",
   "language": "python",
   "name": "dev-pytorch18"
  },
  "language_info": {
   "codemirror_mode": {
    "name": "ipython",
    "version": 3
   },
   "file_extension": ".py",
   "mimetype": "text/x-python",
   "name": "python",
   "nbconvert_exporter": "python",
   "pygments_lexer": "ipython3",
   "version": "3.8.12"
  }
 },
 "nbformat": 4,
 "nbformat_minor": 5
}
